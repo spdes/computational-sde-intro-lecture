{
 "cells": [
  {
   "cell_type": "markdown",
   "metadata": {
    "id": "RR3oQC-kQoXH",
    "slideshow": {
     "slide_type": "slide"
    }
   },
   "source": [
    "# JAX workshop\n",
    "\n",
    "28 November, 2022 in \"A computational introduction to stochastic differential equations\"\n",
    "\n",
    "Zheng Zhao\n"
   ]
  },
  {
   "cell_type": "markdown",
   "metadata": {
    "id": "pz6iz8GoRJcw",
    "slideshow": {
     "slide_type": "slide"
    }
   },
   "source": [
    "# Installation\n",
    "\n",
    "You should have installed `jax`. If not, please now do so by using the command\n",
    "\n",
    "`pip install jaxlib jax`\n",
    "\n",
    "or use `Google Colab`."
   ]
  },
  {
   "cell_type": "markdown",
   "metadata": {
    "id": "r5LtQ7geQ4Mm",
    "slideshow": {
     "slide_type": "slide"
    }
   },
   "source": [
    "# Why/when should you use JAX?\n",
    "\n",
    "It is good to use JAX if your project requires any of:\n",
    "\n",
    "0. python is your primary language.\n",
    "1. just-in-time (JIT) compilation for fast computation.\n",
    "2. automatic differentiation.\n",
    "3. vectorisation.\n",
    "4. Multiple GPU/TPU acceleration (we don't do these today).\n",
    "5. ..."
   ]
  },
  {
   "cell_type": "markdown",
   "metadata": {
    "id": "zVCe8ribSw0P",
    "slideshow": {
     "slide_type": "slide"
    }
   },
   "source": [
    "# Easy to use\n",
    "\n",
    "JAX = numpy + scipy + essential functionalities (e.g., auto-diff, JIT, and parallelisation). \n",
    "\n",
    "If you can use `numpy`, then you should have no problem to use `jax`.\n",
    "\n",
    "\n",
    "|     | Numpy       | JAX |\n",
    "| --- | ----------- | ----------- |\n",
    "|  | `import numpy as np`      | `import jax.numpy as jnp`       |\n",
    "|  | `np.array()`   | `jnp.array()`        |\n",
    "|  | `np.ones()`   | `jnp.ones()`        |\n",
    "|  | `np.zeros()`   | `jnp.zeros()`        |\n",
    "|  | `np.eye()`   | `jnp.eye()`        |\n",
    "|  | `np.sin()`   | `jnp.sin()`        |\n",
    "|  | `np.linalg....`   | `jnp.linalg....`        |\n",
    "|  | ...   | ...        |"
   ]
  },
  {
   "cell_type": "markdown",
   "metadata": {
    "id": "zQBaaD6ybTvc",
    "slideshow": {
     "slide_type": "slide"
    }
   },
   "source": [
    "# Galleries"
   ]
  },
  {
   "cell_type": "markdown",
   "metadata": {
    "slideshow": {
     "slide_type": "slide"
    }
   },
   "source": [
    "## Auto-differentiation"
   ]
  },
  {
   "cell_type": "code",
   "execution_count": null,
   "metadata": {
    "id": "8E6lt1wlbWjf",
    "slideshow": {
     "slide_type": "fragment"
    }
   },
   "outputs": [],
   "source": [
    "import jax\n",
    "import jax.numpy as jnp\n",
    "\n",
    "def f(x):\n",
    "    return x * jnp.sin(x) + jnp.cos(x)\n",
    "\n",
    "grad_of_f = jax.grad(f) # jax.grad returns a function\n",
    "grad_of_f(1.)"
   ]
  },
  {
   "cell_type": "markdown",
   "metadata": {
    "slideshow": {
     "slide_type": "fragment"
    }
   },
   "source": [
    "You say you can compute the gradient by hand? How about something deep..."
   ]
  },
  {
   "cell_type": "code",
   "execution_count": null,
   "metadata": {
    "slideshow": {
     "slide_type": "fragment"
    }
   },
   "outputs": [],
   "source": [
    "def something_deep(x):\n",
    "    for i in range(100):\n",
    "        x = f(x)\n",
    "    return x\n",
    "\n",
    "grad_of_deep = jax.grad(something_deep)\n",
    "grad_of_deep(1.)"
   ]
  },
  {
   "cell_type": "markdown",
   "metadata": {
    "slideshow": {
     "slide_type": "slide"
    }
   },
   "source": [
    "## JIT speed-up"
   ]
  },
  {
   "cell_type": "code",
   "execution_count": null,
   "metadata": {
    "slideshow": {
     "slide_type": "fragment"
    }
   },
   "outputs": [],
   "source": [
    "import numpy as np\n",
    "\n",
    "def softmax_np(x):\n",
    "    \"\"\"Softmax in Numpy\n",
    "    \"\"\"\n",
    "    z = np.exp(x)\n",
    "    return z / np.sum(z, axis=0)\n",
    "\n",
    "@jax.jit\n",
    "def softmax_jax(x):\n",
    "    \"\"\"Softmax in JAX\n",
    "    \"\"\"\n",
    "    z = jnp.exp(x)\n",
    "    return z / jnp.sum(z, axis=0)"
   ]
  },
  {
   "cell_type": "code",
   "execution_count": null,
   "metadata": {
    "slideshow": {
     "slide_type": "fragment"
    }
   },
   "outputs": [],
   "source": [
    "x = np.ones((10, 1000))\n",
    "%timeit softmax_np(x)"
   ]
  },
  {
   "cell_type": "code",
   "execution_count": null,
   "metadata": {
    "slideshow": {
     "slide_type": "fragment"
    }
   },
   "outputs": [],
   "source": [
    "x = jnp.ones((10, 1000))\n",
    "softmax_jax(x)\n",
    "%timeit softmax_jax(x).block_until_ready()"
   ]
  },
  {
   "cell_type": "markdown",
   "metadata": {
    "id": "YOvpHon7RY_X",
    "slideshow": {
     "slide_type": "slide"
    }
   },
   "source": [
    "# Agenda\n",
    "\n",
    "1. JIT compilation\n",
    "2. Generate random numbers\n",
    "3. Vectorisation\n",
    "\n",
    "-- break --\n",
    "\n",
    "4. Autodiff\n",
    "5. Control flows (i.e., loops/if-else)\n",
    "6. SDE examples\n",
    "7. Homework"
   ]
  },
  {
   "cell_type": "markdown",
   "metadata": {
    "id": "Sxt85BAmeBEn",
    "slideshow": {
     "slide_type": "slide"
    }
   },
   "source": [
    "Useful materials:\n",
    "\n",
    "1. Jax sharp bits https://jax.readthedocs.io/en/latest/notebooks/Common_Gotchas_in_JAX.html.\n",
    "2. Workshop by Adrien Corenflos: https://github.com/AdrienCorenflos/jax-workshop."
   ]
  }
 ],
 "metadata": {
  "celltoolbar": "Slideshow",
  "colab": {
   "name": "jax-clinic-intro.ipynb",
   "provenance": []
  },
  "kernelspec": {
   "display_name": "Python 3 (ipykernel)",
   "language": "python",
   "name": "python3"
  },
  "language_info": {
   "codemirror_mode": {
    "name": "ipython",
    "version": 3
   },
   "file_extension": ".py",
   "mimetype": "text/x-python",
   "name": "python",
   "nbconvert_exporter": "python",
   "pygments_lexer": "ipython3",
   "version": "3.10.4"
  }
 },
 "nbformat": 4,
 "nbformat_minor": 1
}
