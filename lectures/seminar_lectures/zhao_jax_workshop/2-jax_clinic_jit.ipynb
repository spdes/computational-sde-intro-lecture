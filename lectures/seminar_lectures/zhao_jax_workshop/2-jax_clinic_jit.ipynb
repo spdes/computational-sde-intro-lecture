{
 "cells": [
  {
   "cell_type": "markdown",
   "metadata": {
    "id": "YdAAF7si_QqA",
    "slideshow": {
     "slide_type": "slide"
    }
   },
   "source": [
    "# JIT in JAX\n",
    "\n",
    "Suppose that we have a function that is giga-computational demanding.\n",
    "\n",
    "```python\n",
    "def expensive_func(x):\n",
    "    # a bunch of giga-heavy computations\n",
    "    # Python is slow, and Numpy too\n",
    "    return ...\n",
    "```"
   ]
  },
  {
   "cell_type": "markdown",
   "metadata": {
    "slideshow": {
     "slide_type": "slide"
    }
   },
   "source": [
    "JAX can make the function above faster by compiling it into machine codes by using the JIT compilation. We trigger the **compilation** by calling `jax.jit`\n",
    "\n",
    "```python\n",
    "import jax\n",
    "jitted_func = jax.jit(expensive_func) \n",
    "# The return jitted_func is a function that has exactly the same signature as my_expensive_func\n",
    "```"
   ]
  },
  {
   "cell_type": "markdown",
   "metadata": {
    "slideshow": {
     "slide_type": "fragment"
    }
   },
   "source": [
    "It is equivalent to put a decorator over the function definition (like `tf.function()`):\n",
    "\n",
    "```python\n",
    "@jax.jit\n",
    "def expensive_func(x):\n",
    "    ...\n",
    "    return ...\n",
    "```"
   ]
  },
  {
   "cell_type": "markdown",
   "metadata": {
    "id": "4NDFmRkVtwzE",
    "slideshow": {
     "slide_type": "slide"
    }
   },
   "source": [
    "# Example"
   ]
  },
  {
   "cell_type": "code",
   "execution_count": null,
   "metadata": {
    "id": "7wRjDArQjpJx",
    "slideshow": {
     "slide_type": "fragment"
    }
   },
   "outputs": [],
   "source": [
    "import numpy as np\n",
    "import jax\n",
    "import jax.numpy as jnp"
   ]
  },
  {
   "cell_type": "markdown",
   "metadata": {
    "id": "QmM_PGYEreoS",
    "slideshow": {
     "slide_type": "fragment"
    }
   },
   "source": [
    "Recall that Jax by default uses `float32` for the best compatiblity with GPUs. You need to manually do the following to enable `float64` globally."
   ]
  },
  {
   "cell_type": "code",
   "execution_count": null,
   "metadata": {
    "id": "y4_sUNAsrpbu",
    "slideshow": {
     "slide_type": "fragment"
    }
   },
   "outputs": [],
   "source": [
    "from jax.config import config\n",
    "config.update(\"jax_enable_x64\", True)"
   ]
  },
  {
   "cell_type": "code",
   "execution_count": null,
   "metadata": {
    "id": "mAG01BuEdl7t",
    "slideshow": {
     "slide_type": "slide"
    }
   },
   "outputs": [],
   "source": [
    "def func_np(x):\n",
    "    return np.diff(np.diff(np.diff(np.diff(np.diff(x)))))\n",
    "\n",
    "@jax.jit\n",
    "def func_jax(x):\n",
    "    return jnp.diff(jnp.diff(jnp.diff(jnp.diff(jnp.diff(x)))))\n",
    "\n",
    "x = np.random.randn(100000)\n",
    "jx = jnp.asarray(x)"
   ]
  },
  {
   "cell_type": "code",
   "execution_count": null,
   "metadata": {
    "colab": {
     "base_uri": "https://localhost:8080/"
    },
    "id": "idf4FN8SjhtO",
    "outputId": "07ab0e65-d279-4315-dc20-9495d41b49d4",
    "slideshow": {
     "slide_type": "fragment"
    }
   },
   "outputs": [],
   "source": [
    "%timeit func_np(x)"
   ]
  },
  {
   "cell_type": "code",
   "execution_count": null,
   "metadata": {
    "colab": {
     "base_uri": "https://localhost:8080/"
    },
    "id": "rjD_WH76kUAm",
    "outputId": "d8833297-fb78-4218-93c9-caee0f2679df",
    "slideshow": {
     "slide_type": "fragment"
    }
   },
   "outputs": [],
   "source": [
    "# Trigger jit\n",
    "func_jax(jx)\n",
    "\n",
    "%timeit func_jax(jx).block_until_ready()"
   ]
  },
  {
   "cell_type": "markdown",
   "metadata": {
    "slideshow": {
     "slide_type": "fragment"
    }
   },
   "source": [
    "Around 4 times faster."
   ]
  },
  {
   "cell_type": "markdown",
   "metadata": {
    "slideshow": {
     "slide_type": "slide"
    }
   },
   "source": [
    "Numpy uses OpenBLAS/MKL/BLIS... as backend, why it is still slow?"
   ]
  },
  {
   "cell_type": "markdown",
   "metadata": {
    "slideshow": {
     "slide_type": "fragment"
    }
   },
   "source": [
    "A more illustrative example which shows that the overhead of Numpy is problematic:"
   ]
  },
  {
   "cell_type": "code",
   "execution_count": null,
   "metadata": {
    "slideshow": {
     "slide_type": "fragment"
    }
   },
   "outputs": [],
   "source": [
    "A, B = np.eye(50), np.eye(50)\n",
    "def func_np(x):\n",
    "    for i in range(100):\n",
    "        x = B @ x + np.linalg.solve(A, x) + np.linalg.norm(x)\n",
    "    return x\n",
    "        \n",
    "        \n",
    "Aj, Bj = jnp.eye(50), jnp.eye(50)\n",
    "@jax.jit\n",
    "def func_jax(x):\n",
    "    def scan_body(carry, _):\n",
    "        x = carry\n",
    "        return Bj @ x + jnp.linalg.solve(Aj, x) + jnp.linalg.norm(x), _\n",
    "    return jax.lax.scan(scan_body, x, jnp.arange(100))[-1]"
   ]
  },
  {
   "cell_type": "code",
   "execution_count": null,
   "metadata": {
    "slideshow": {
     "slide_type": "fragment"
    }
   },
   "outputs": [],
   "source": [
    "%timeit func_np(np.ones((50, )))"
   ]
  },
  {
   "cell_type": "code",
   "execution_count": null,
   "metadata": {
    "slideshow": {
     "slide_type": "fragment"
    }
   },
   "outputs": [],
   "source": [
    "# Trigger jit\n",
    "func_jax(jnp.ones((50, )))\n",
    "\n",
    "%timeit func_jax(jnp.ones((50, ))).block_until_ready()"
   ]
  },
  {
   "cell_type": "markdown",
   "metadata": {
    "id": "Omgh2VS8v6yk",
    "slideshow": {
     "slide_type": "slide"
    }
   },
   "source": [
    "# What happened inside JIT?\n",
    "\n",
    "1. When Python executes `func_jax` for the first time, the function `jax.jit` traces/traverses all the operations inside the function `func_jax`."
   ]
  },
  {
   "cell_type": "markdown",
   "metadata": {
    "slideshow": {
     "slide_type": "fragment"
    }
   },
   "source": [
    "2. Then JIT compiles these operations into the **accelerated linear algebra (XLA)** codes. Imagine this as that of compiling C codes to an executable file. No numerical computations are done!"
   ]
  },
  {
   "cell_type": "markdown",
   "metadata": {
    "slideshow": {
     "slide_type": "fragment"
    }
   },
   "source": [
    "3. Then, by the next time you call the jitted `func_jax`, Python will execute the compiled XLA codes to carry out the numerical computations. "
   ]
  },
  {
   "cell_type": "markdown",
   "metadata": {
    "slideshow": {
     "slide_type": "fragment"
    }
   },
   "source": [
    "4. After the numerical computations are done in the machine level, the results are sent back to Python."
   ]
  },
  {
   "cell_type": "markdown",
   "metadata": {
    "slideshow": {
     "slide_type": "slide"
    }
   },
   "source": [
    "JAX basically uses Python as a \"metaprogramming language\" that specifies how to build an XLA program (quote: [Patrick Kidger](https://kidger.site/thoughts/jax-vs-julia)). "
   ]
  },
  {
   "cell_type": "markdown",
   "metadata": {
    "id": "k81IzQsutRma",
    "slideshow": {
     "slide_type": "slide"
    }
   },
   "source": [
    "# When/where to JIT?\n",
    "\n",
    "Usually, we JIT\n",
    "\n",
    "1. the part that has the largest scope, so that the compiler can understand your programme better,\n",
    "2. or the function(s) that are called repetitively, for instance, the objective function in optimisation:\n",
    "\n",
    "```python\n",
    "@jax.jit\n",
    "def objective_func(params):\n",
    "    ...\n",
    "    return ...\n",
    "```\n",
    "\n",
    "Remember, when we write the jax code, we are describing a computation flow."
   ]
  },
  {
   "cell_type": "markdown",
   "metadata": {
    "id": "ijMj6Caj-M_6",
    "slideshow": {
     "slide_type": "slide"
    }
   },
   "source": [
    "# Will these work?"
   ]
  },
  {
   "cell_type": "code",
   "execution_count": null,
   "metadata": {
    "slideshow": {
     "slide_type": "slide"
    }
   },
   "outputs": [],
   "source": [
    "@jax.jit\n",
    "def my_func(x):\n",
    "    return np.exp(x)\n",
    "\n",
    "my_func(jnp.ones((2, )))"
   ]
  },
  {
   "cell_type": "code",
   "execution_count": null,
   "metadata": {
    "id": "d-fgu9_o-MX5",
    "slideshow": {
     "slide_type": "slide"
    }
   },
   "outputs": [],
   "source": [
    "@jax.jit\n",
    "def my_func(x):\n",
    "    return x + np.array([1., 2.])\n",
    "\n",
    "my_func(jnp.ones((2, )))\n",
    "my_func(np.ones((2, )))"
   ]
  },
  {
   "cell_type": "markdown",
   "metadata": {
    "slideshow": {
     "slide_type": "fragment"
    }
   },
   "source": [
    "Note: this does not work in some early jax versions."
   ]
  },
  {
   "cell_type": "code",
   "execution_count": null,
   "metadata": {
    "id": "B1iKKg-Z-aMs",
    "slideshow": {
     "slide_type": "slide"
    }
   },
   "outputs": [],
   "source": [
    "# Another example\n",
    "\n",
    "class MyClass:\n",
    "\n",
    "    def __init__(self):\n",
    "        self.y = jnp.array(1.)\n",
    "\n",
    "    @jax.jit\n",
    "    def my_method(self, x):\n",
    "        return x + self.y\n",
    "    \n",
    "obj = MyClass()\n",
    "obj.my_method(jnp.array(2.))"
   ]
  },
  {
   "cell_type": "markdown",
   "metadata": {
    "id": "oFD8U-h8-yO_",
    "slideshow": {
     "slide_type": "slide"
    }
   },
   "source": [
    "We can force it to work by adding a `static_argums` option. This assumes that `self` is static, that is, immutable."
   ]
  },
  {
   "cell_type": "code",
   "execution_count": null,
   "metadata": {
    "id": "1BoVZ2tB_DG5",
    "slideshow": {
     "slide_type": "fragment"
    }
   },
   "outputs": [],
   "source": [
    "from functools import partial\n",
    "\n",
    "class MyClass:\n",
    "\n",
    "    def __init__(self):\n",
    "        self.y = jnp.array(1.)\n",
    "\n",
    "    @partial(jax.jit, static_argnums=(0, ))\n",
    "    def my_method(self, x):\n",
    "        return x + self.y\n",
    "    \n",
    "obj = MyClass()\n",
    "obj.my_method(jnp.array(2.))"
   ]
  },
  {
   "cell_type": "markdown",
   "metadata": {
    "id": "GleFYqNo_Po5",
    "slideshow": {
     "slide_type": "slide"
    }
   },
   "source": [
    "Similarly, this will not (immediately) work either\n",
    "\n",
    "```python\n",
    "@jit\n",
    "def f(x, g: Callable):\n",
    "    return x + g(x)\n",
    "```\n",
    "\n",
    "We have to make it clear that the argument `g` is static:\n",
    "\n",
    "```python\n",
    "@partial(jit, static_argnums=(1, ))\n",
    "def f(x, g: Callable):\n",
    "    return x + g(x)\n",
    "```\n",
    "\n",
    "A more concise way is to put `g` in an outer scope\n",
    "\n",
    "```python\n",
    "g = ... # Definition of g from outer scope\n",
    "\n",
    "@jit\n",
    "def f(x):\n",
    "    return x + g(x)\n",
    "```\n",
    "\n",
    "Note: whenever the static argument changes, it will trigger the JIT compilation again to create another XLA code."
   ]
  },
  {
   "cell_type": "markdown",
   "metadata": {
    "slideshow": {
     "slide_type": "slide"
    }
   },
   "source": [
    "JAX accepts **immutable** objects, while Python Class is **mutable**. \n",
    "\n",
    "For instance, "
   ]
  },
  {
   "cell_type": "code",
   "execution_count": null,
   "metadata": {
    "slideshow": {
     "slide_type": "fragment"
    }
   },
   "outputs": [],
   "source": [
    "x = jnp.ones((2, ))\n",
    "x[0] = 1.\n",
    "\n",
    "# does not work."
   ]
  },
  {
   "cell_type": "markdown",
   "metadata": {
    "slideshow": {
     "slide_type": "fragment"
    }
   },
   "source": [
    "Well, doesn't JAX suck if we cannot even assign/update values to variables?\n",
    "\n",
    "No, this in my opinion a feature not a problem. Immutable objects are best for computations. For projects that need mutable objects, we can rewrite them into that of based on immutable ones."
   ]
  }
 ],
 "metadata": {
  "celltoolbar": "Slideshow",
  "colab": {
   "name": "jax-clinic-jit.ipynb",
   "provenance": []
  },
  "kernelspec": {
   "display_name": "Python 3 (ipykernel)",
   "language": "python",
   "name": "python3"
  },
  "language_info": {
   "codemirror_mode": {
    "name": "ipython",
    "version": 3
   },
   "file_extension": ".py",
   "mimetype": "text/x-python",
   "name": "python",
   "nbconvert_exporter": "python",
   "pygments_lexer": "ipython3",
   "version": "3.10.4"
  }
 },
 "nbformat": 4,
 "nbformat_minor": 1
}
