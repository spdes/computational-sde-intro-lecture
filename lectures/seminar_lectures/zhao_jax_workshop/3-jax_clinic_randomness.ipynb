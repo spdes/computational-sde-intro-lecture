{
 "cells": [
  {
   "cell_type": "markdown",
   "metadata": {
    "id": "_UtcY71YIxA8",
    "slideshow": {
     "slide_type": "slide"
    }
   },
   "source": [
    "# Generate random numbers\n",
    "\n",
    "Generating random numbers in JAX needs the programmer to be conscious, not drunk. \n",
    "\n",
    "This is going to look painful in the beginning. \n",
    "\n",
    "But in the end we will see this is super helpful in controlling the randomness flow. "
   ]
  },
  {
   "cell_type": "markdown",
   "metadata": {
    "id": "M7CP_OSJI2j8",
    "slideshow": {
     "slide_type": "slide"
    }
   },
   "source": [
    "Think about how to generate random samples in numpy, for example, \n",
    "\n",
    "```python\n",
    "np.random.seed(999)\n",
    "samples1 = np.random.randn(5)\n",
    "samples2 = np.random.uniform(5)\n",
    "samples3 = np.random.gamma(5)\n",
    "```\n",
    "\n",
    "The results are reproducible under a fixed random seed.\n",
    "\n",
    "Can we do\n",
    "\n",
    "```python\n",
    "jnp.random.seed(999)\n",
    "...\n",
    "```\n",
    "\n",
    "?"
   ]
  },
  {
   "cell_type": "markdown",
   "metadata": {
    "id": "3K5BYxCGJPis",
    "slideshow": {
     "slide_type": "slide"
    }
   },
   "source": [
    "No, we have to manually play with random keys by yourself, like in C/C++/Rust."
   ]
  },
  {
   "cell_type": "code",
   "execution_count": null,
   "metadata": {
    "colab": {
     "base_uri": "https://localhost:8080/"
    },
    "id": "ynDyQq2jKItD",
    "outputId": "b61f5ae7-1cd7-4ab2-94f3-ce98e975f2e8",
    "slideshow": {
     "slide_type": "fragment"
    }
   },
   "outputs": [],
   "source": [
    "# The equivalence to the Numpy code\n",
    "\n",
    "import jax\n",
    "\n",
    "key = jax.random.PRNGKey(999)\n",
    "samples1 = jax.random.normal(key, shape=(5, ))\n",
    "\n",
    "key, _ = jax.random.split(key)\n",
    "samples2 = jax.random.uniform(key, shape=(5, ))\n",
    "\n",
    "key, _ = jax.random.split(key)\n",
    "samples3 = jax.random.gamma(key, shape=(5, ), a=1.)"
   ]
  },
  {
   "cell_type": "markdown",
   "metadata": {
    "id": "yM9Kou1DLTX4",
    "slideshow": {
     "slide_type": "slide"
    }
   },
   "source": [
    "We may think explicitly splitting random keys is a fuss/verbose, but this is **standard** for asynchronous/parallel/vectorisable programmes. \n",
    "\n",
    "```python\n",
    "np.random.seed(999)\n",
    "samples1 = np.random.randn(5)\n",
    "samples2 = np.random.uniform(5)\n",
    "samples3 = np.random.gamma(5)\n",
    "```\n",
    "\n",
    "Why the results are reproducible? "
   ]
  },
  {
   "cell_type": "markdown",
   "metadata": {
    "slideshow": {
     "slide_type": "fragment"
    }
   },
   "source": [
    "Because: 1) the random seed is fixed. 2) the order of execution is fixed. \n",
    "\n",
    "If `samples1` `samples2` `samples3` are executed in parallel, can you guarantee the results are the same? No, because you will not know the order of execution. This essentially introduces another randomness (from hardware level) that is hard to control. "
   ]
  },
  {
   "cell_type": "code",
   "execution_count": null,
   "metadata": {
    "colab": {
     "base_uri": "https://localhost:8080/"
    },
    "id": "uMUnzMIlOqw5",
    "outputId": "a2d7b4cb-afd4-4bcc-fe75-a5a4aba3acce",
    "slideshow": {
     "slide_type": "slide"
    }
   },
   "outputs": [],
   "source": [
    "key = jax.random.PRNGKey(999)\n",
    "print(key)\n",
    "\n",
    "# The randomness under this splitted key is independent of the previous key\n",
    "key, subkey = jax.random.split(key)\n",
    "print(key, subkey)\n",
    "\n",
    "key, subkey = jax.random.split(key)\n",
    "print(key, subkey)\n",
    "\n",
    "keys = jax.random.split(key, num=5)\n",
    "print(keys)"
   ]
  },
  {
   "cell_type": "markdown",
   "metadata": {
    "id": "sOEj59-BPSYk",
    "slideshow": {
     "slide_type": "fragment"
    }
   },
   "source": [
    "In practice, you can just ignore `subkey` which is used to track randomness.\n",
    "\n",
    "`key, _ = jax.random.split(key)`"
   ]
  },
  {
   "cell_type": "markdown",
   "metadata": {
    "slideshow": {
     "slide_type": "slide"
    }
   },
   "source": [
    "# Example\n",
    "\n",
    "Imagine that we have an algorithm and we woule like to test it on a synthetic model for 100 **independent** Monte Carlo runs then average the results. \n",
    "\n",
    "```python\n",
    "num_mcs = 100\n",
    "for i in range(num_mcs)\n",
    "    np.random.seed(i)\n",
    "    data = generate_data()\n",
    "    result = my_algorithm(data)\n",
    "```"
   ]
  },
  {
   "cell_type": "markdown",
   "metadata": {
    "slideshow": {
     "slide_type": "fragment"
    }
   },
   "source": [
    "The implementation above is a common mistake, as seeds 1, 2, ... 100 are **not independent**. How to make the randomness in the loop independent to each other? I actually don't know how to do so in Numpy.\n",
    "\n",
    "In JAX, it's convenient:\n",
    "\n",
    "```python\n",
    "num_mcs = 100\n",
    "key = jax.random.PRNGKey(1)\n",
    "for i in range(num_mcs)\n",
    "    key, _ = jax.random.split(key)\n",
    "    data = generate_data(key)\n",
    "    result = my_algorithm(data)\n",
    "```"
   ]
  },
  {
   "cell_type": "markdown",
   "metadata": {
    "id": "5k-GSkrsORFh",
    "slideshow": {
     "slide_type": "slide"
    }
   },
   "source": [
    "# Exercise\n",
    "\n",
    "Generate two \"random positive definite matrices of size 6\" then add them."
   ]
  },
  {
   "cell_type": "markdown",
   "metadata": {
    "slideshow": {
     "slide_type": "slide"
    }
   },
   "source": [
    "Numpy implementation\n",
    "\n",
    "```python\n",
    "np.random.seed(999)\n",
    "\n",
    "rand = np.random.randn(6)\n",
    "psd_matrix_1 = np.outer(rand, rand) + np.eye(6)\n",
    "\n",
    "rand = np.random.randn(6)\n",
    "psd_matrix_2 = np.outer(rand, rand) + np.eye(6)\n",
    "\n",
    "print(np.linalg.eigh(psd_matrix_1 + psd_matrix_2)[0])\n",
    "```\n",
    "\n",
    "```python\n",
    "import jax.numpy as jnp\n",
    "\n",
    "key = ?\n",
    "rand = ?\n",
    "psd_matrix_1 = jnp.outer(rand, rand) + jnp.eye(6)\n",
    "\n",
    "key, _ = ?\n",
    "rand = ?\n",
    "psd_matrix_2 = jnp.outer(rand, rand) + jnp.eye(6)\n",
    "\n",
    "print(jnp.linalg.eigh(psd_matrix_1 + psd_matrix_2)[0])\n",
    "```"
   ]
  },
  {
   "cell_type": "markdown",
   "metadata": {
    "id": "FlhHZrSYQugn",
    "slideshow": {
     "slide_type": "slide"
    }
   },
   "source": [
    "## Solution"
   ]
  },
  {
   "cell_type": "code",
   "execution_count": null,
   "metadata": {
    "colab": {
     "base_uri": "https://localhost:8080/"
    },
    "id": "YuMpyMRKJO9j",
    "outputId": "03876388-99ec-4337-b34d-117839c733ea",
    "slideshow": {
     "slide_type": "fragment"
    }
   },
   "outputs": [],
   "source": [
    "import jax.numpy as jnp\n",
    "\n",
    "key = jax.random.PRNGKey(999)\n",
    "rand = jax.random.normal(key, (6, ))\n",
    "psd_matrix_1 = jnp.outer(rand, rand) + jnp.eye(6)\n",
    "\n",
    "key, _ = jax.random.split(key)\n",
    "rand = jax.random.normal(key, (6, ))\n",
    "psd_matrix_2 = jnp.outer(rand, rand) + jnp.eye(6)\n",
    "\n",
    "print(jnp.linalg.eigh(psd_matrix_1 + psd_matrix_2)[0])"
   ]
  }
 ],
 "metadata": {
  "celltoolbar": "Slideshow",
  "colab": {
   "name": "jax-clinic-randomness.ipynb",
   "provenance": []
  },
  "kernelspec": {
   "display_name": "Python 3 (ipykernel)",
   "language": "python",
   "name": "python3"
  },
  "language_info": {
   "codemirror_mode": {
    "name": "ipython",
    "version": 3
   },
   "file_extension": ".py",
   "mimetype": "text/x-python",
   "name": "python",
   "nbconvert_exporter": "python",
   "pygments_lexer": "ipython3",
   "version": "3.10.4"
  }
 },
 "nbformat": 4,
 "nbformat_minor": 1
}
