{
 "cells": [
  {
   "cell_type": "markdown",
   "metadata": {
    "id": "BiopLIrXS4N9",
    "slideshow": {
     "slide_type": "slide"
    }
   },
   "source": [
    "# Autodiff\n",
    "\n",
    "1. Gradient\n",
    "2. Jacobian\n",
    "3. Hessian"
   ]
  },
  {
   "cell_type": "code",
   "execution_count": null,
   "metadata": {
    "id": "HhrdRO1aTXrE",
    "slideshow": {
     "slide_type": "slide"
    }
   },
   "outputs": [],
   "source": [
    "import jax\n",
    "import jax.numpy as jnp"
   ]
  },
  {
   "cell_type": "markdown",
   "metadata": {
    "id": "GH6hKoQsTJzl",
    "slideshow": {
     "slide_type": "fragment"
    }
   },
   "source": [
    "Consider a function $f\\colon \\mathbb{R}^d \\to \\mathbb{R}$. Jax computes the gradient of $f$ by\n",
    "`grad_f = jax.grad(f)`."
   ]
  },
  {
   "cell_type": "markdown",
   "metadata": {
    "id": "YzAsN3kDTqZt",
    "slideshow": {
     "slide_type": "slide"
    }
   },
   "source": [
    "# Example\n",
    "\n",
    "$$\n",
    "f(x) = x^\\top \\, A \\, x \n",
    "$$\n",
    "\n",
    "compute $\\nabla f$, and compare with the true gradient $2 \\, A \\,x$."
   ]
  },
  {
   "cell_type": "code",
   "execution_count": null,
   "metadata": {
    "colab": {
     "base_uri": "https://localhost:8080/"
    },
    "id": "KSXjcH7vTW7T",
    "outputId": "aa94bca6-ce95-47e4-a564-c328725b7c72",
    "slideshow": {
     "slide_type": "fragment"
    }
   },
   "outputs": [],
   "source": [
    "A = jnp.eye(2)\n",
    "\n",
    "def f(x):\n",
    "    return jnp.dot(x, A @ x)\n",
    "\n",
    "grad_f = jax.grad(f)\n",
    "grad_f(jnp.array([1., 2.]))"
   ]
  },
  {
   "cell_type": "markdown",
   "metadata": {
    "id": "hiAss-5yU8Wg",
    "slideshow": {
     "slide_type": "slide"
    }
   },
   "source": [
    "# Exercise\n",
    "\n",
    "Consider an MLE objective function\n",
    "\n",
    "$$\n",
    "\\ell(\\theta) = x^\\top A^{-1}(\\theta) \\, x,\n",
    "$$\n",
    "\n",
    "where $A(\\theta) = \\begin{bmatrix}2 & \\mathrm{sigmoid}(\\theta) \\\\ \\mathrm{sigmoid}(\\theta) & 3 \\end{bmatrix}$, and $x\\in\\mathbb{R}^2$ is given. Compute $\\nabla \\ell$ at $\\theta=2$, and compare the result to that of the finite difference."
   ]
  },
  {
   "cell_type": "markdown",
   "metadata": {
    "id": "hfD5mVbSZ_io",
    "slideshow": {
     "slide_type": "fragment"
    }
   },
   "source": [
    "```python\n",
    "import jax.scipy\n",
    "\n",
    "key = ?\n",
    "x = jax.random.normal(?)\n",
    "\n",
    "def sigmoid(theta):\n",
    "    return ?\n",
    "\n",
    "def nll(theta):\n",
    "    A = ?\n",
    "\n",
    "    chol = jax.scipy.linalg.cho_factor(A, lower=True)\n",
    "    return jnp.dot(x, jax.scipy.linalg.cho_solve(chol, x))\n",
    "\n",
    "grad_nll = ?\n",
    "\n",
    "grad_nll(2.)\n",
    "\n",
    "# compute gradient at 2. using finite difference\n",
    "?\n",
    "```"
   ]
  },
  {
   "cell_type": "markdown",
   "metadata": {
    "id": "Y8GQJAxcXyGT",
    "slideshow": {
     "slide_type": "slide"
    }
   },
   "source": [
    "## Solution"
   ]
  },
  {
   "cell_type": "code",
   "execution_count": null,
   "metadata": {
    "id": "Tez_LpIfUfXk",
    "slideshow": {
     "slide_type": "fragment"
    }
   },
   "outputs": [],
   "source": [
    "import jax.scipy\n",
    "\n",
    "key = jax.random.PRNGKey(999)\n",
    "x = jax.random.normal(key, (2, ))\n",
    "\n",
    "def sigmoid(theta):\n",
    "    return 1 / (1 + jnp.exp(-theta))\n",
    "\n",
    "def nll(theta):\n",
    "    A = jnp.array([[2., sigmoid(theta)], \n",
    "                   [sigmoid(theta), 3.]])\n",
    "    chol = jax.scipy.linalg.cho_factor(A, lower=True)\n",
    "    return jnp.dot(x, jax.scipy.linalg.cho_solve(chol, x))\n",
    "\n",
    "grad_nll = jax.grad(nll)"
   ]
  },
  {
   "cell_type": "code",
   "execution_count": null,
   "metadata": {
    "colab": {
     "base_uri": "https://localhost:8080/"
    },
    "id": "NA5DDBZIZBgV",
    "outputId": "5a2e70fd-31f0-4f0c-c048-c965604dd272",
    "slideshow": {
     "slide_type": "fragment"
    }
   },
   "outputs": [],
   "source": [
    "grad_nll(2.)"
   ]
  },
  {
   "cell_type": "code",
   "execution_count": null,
   "metadata": {
    "colab": {
     "base_uri": "https://localhost:8080/"
    },
    "id": "1FG3ZcmjZEqy",
    "outputId": "3639dafc-f042-4f7c-94a5-af60ec43255b",
    "slideshow": {
     "slide_type": "fragment"
    }
   },
   "outputs": [],
   "source": [
    "(nll(2. + 1e-3) - nll(2.)) / 1e-3"
   ]
  },
  {
   "cell_type": "markdown",
   "metadata": {
    "id": "gVtSLhfx3bpZ",
    "slideshow": {
     "slide_type": "slide"
    }
   },
   "source": [
    "# Jacobian and Hessian\n",
    "\n",
    "Jax computes Jacobian of any function $f\\colon \\mathbb{R}^{n} \\to \\mathbb{R}^m$ by `jax.jacfwd` or `jax.jacrev`. They give the same results but are implemented in different ways."
   ]
  },
  {
   "cell_type": "markdown",
   "metadata": {
    "slideshow": {
     "slide_type": "fragment"
    }
   },
   "source": [
    "- `jax.jacfwd`. Forward-mode autodiff.\n",
    "- `jax.jacrev`. Reverse-mode autodiff."
   ]
  },
  {
   "cell_type": "markdown",
   "metadata": {
    "slideshow": {
     "slide_type": "fragment"
    }
   },
   "source": [
    "I am no expert in autodiff, but essentially, we use `jacfwd` when $n \\ll m$ while use `jacrev` when $n \\gg m$ for the best computation speed.\n",
    "\n",
    "To obtain Hessian of a function, we could use either `jacfwd(jacrev(f))` or `jax.hessian(f)`."
   ]
  },
  {
   "cell_type": "markdown",
   "metadata": {
    "id": "V33aIe2P8-he",
    "slideshow": {
     "slide_type": "slide"
    }
   },
   "source": [
    "# Example\n",
    "\n",
    "Take the Jacobian of $\\nabla f$ from the first example, where \n",
    "\n",
    "$$\n",
    "f(x) = x^\\top \\, A \\, x \n",
    "$$\n"
   ]
  },
  {
   "cell_type": "code",
   "execution_count": null,
   "metadata": {
    "colab": {
     "base_uri": "https://localhost:8080/"
    },
    "id": "QQ0GOsS39Mn3",
    "outputId": "e11d7673-1f57-41e4-d517-b84eba4d5244",
    "slideshow": {
     "slide_type": "fragment"
    }
   },
   "outputs": [],
   "source": [
    "jac_of_gradf = jax.jacfwd(grad_f)\n",
    "\n",
    "# Evaluate at x=[0.1, 0.2]\n",
    "jac_of_gradf(jnp.array([0.1, 0.2]))"
   ]
  },
  {
   "cell_type": "markdown",
   "metadata": {
    "id": "QZbT2NhA-aUB",
    "slideshow": {
     "slide_type": "slide"
    }
   },
   "source": [
    "# Exercise\n",
    "\n",
    "Consider a simple perceptron\n",
    "\n",
    "$$\n",
    "\\mathrm{NN}(x) = \\mathrm{sigmoid} (w^\\top \\, x + b)\n",
    "$$\n",
    "\n",
    "Compute its gradient and Hessian w.r.t. the weight $w$.\n",
    "\n",
    "Note: search `jax argnums` for specifying positional argument(s) to differentiate with respect to.\n",
    "\n",
    "```python\n",
    "def sigmoid(x):\n",
    "    return ?\n",
    "\n",
    "def nn(x, weights, b):\n",
    "    \"\"\"This function has three arguments. How to specify to which argument we differentiate?\n",
    "    \"\"\"\n",
    "    return ?\n",
    "\n",
    "key = jax.random.PRNGKey(999)\n",
    "ws = jax.random.normal(key, (10, ))\n",
    "\n",
    "key, _ = jax.random.split(key)\n",
    "xs = jax.random.normal(key, (10, ))\n",
    "\n",
    "grad_of_nn = ?\n",
    "hessian_of_nn = ?\n",
    "\n",
    "print(grad_of_nn(xs, ws, 1.))\n",
    "print(hessian_of_nn(xs, ws, 1.))\n",
    "```"
   ]
  },
  {
   "cell_type": "markdown",
   "metadata": {
    "id": "gikOaOAVA2YX",
    "slideshow": {
     "slide_type": "slide"
    }
   },
   "source": [
    "## Solution"
   ]
  },
  {
   "cell_type": "code",
   "execution_count": null,
   "metadata": {
    "id": "syqgDRGp9jJm",
    "slideshow": {
     "slide_type": "fragment"
    }
   },
   "outputs": [],
   "source": [
    "def sigmoid(x):\n",
    "    return 1 / (1 + jnp.exp(-x))\n",
    "\n",
    "def nn(x, weights, b):\n",
    "    return sigmoid(jnp.dot(x, weights) + b)\n",
    "\n",
    "key = jax.random.PRNGKey(999)\n",
    "ws = jax.random.normal(key, (10, ))\n",
    "\n",
    "key, _ = jax.random.split(key)\n",
    "xs = jax.random.normal(key, (10, ))\n",
    "\n",
    "grad_of_nn = jax.grad(nn, argnums=[1])\n",
    "hessian_of_nn = jax.hessian(nn, argnums=[1])\n",
    "\n",
    "print(grad_of_nn(xs, ws, 1.))\n",
    "print(hessian_of_nn(xs, ws, 1.))"
   ]
  },
  {
   "cell_type": "markdown",
   "metadata": {
    "id": "zU5O7rKgBA-z",
    "slideshow": {
     "slide_type": "slide"
    }
   },
   "source": [
    "# Jacobian-vector product (JVP), vector-Jacobian product (VJP), and Hessian vector product (HVP)\n",
    "\n",
    "In a plethora of applications, it is not the Jacobian/Hessian you want to solve, but the Matrix-vector product\n",
    "\n",
    "$$\n",
    "\\mathrm{J} x\n",
    "$$\n",
    "\n",
    "for some Jacobian/Hessian $\\mathrm{J}$ and a vector $x$. For example, a commonly seen operator in SDE/PDE:\n",
    "\n",
    "$$\n",
    "(A \\phi)(x) = \\nabla_x \\phi \\cdot a(x) + \\frac{1}{2} \\mathrm{tr}\\big(\\Gamma(x) \\, \\mathrm{H}_x \\phi\\big),\n",
    "$$\n",
    "\n",
    "Other examples: Gauss--Newton, quasi-Newton methods, and extended Kalman filter ...\n",
    "\n",
    "\n",
    "This ese can be solved efficient using `jax.vjp` and `jax.jvp`. For details, see https://jax.readthedocs.io/en/latest/notebooks/autodiff_cookbook.html#how-it-s-made-two-foundational-autodiff-functions. "
   ]
  }
 ],
 "metadata": {
  "celltoolbar": "Slideshow",
  "colab": {
   "name": "jax-clinic-autodiff.ipynb",
   "provenance": []
  },
  "kernelspec": {
   "display_name": "Python 3 (ipykernel)",
   "language": "python",
   "name": "python3"
  },
  "language_info": {
   "codemirror_mode": {
    "name": "ipython",
    "version": 3
   },
   "file_extension": ".py",
   "mimetype": "text/x-python",
   "name": "python",
   "nbconvert_exporter": "python",
   "pygments_lexer": "ipython3",
   "version": "3.10.4"
  }
 },
 "nbformat": 4,
 "nbformat_minor": 1
}
