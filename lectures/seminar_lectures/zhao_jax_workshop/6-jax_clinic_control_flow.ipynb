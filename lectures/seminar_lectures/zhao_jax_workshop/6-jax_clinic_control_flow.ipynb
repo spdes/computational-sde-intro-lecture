{
 "cells": [
  {
   "cell_type": "markdown",
   "metadata": {
    "id": "L5ZkzX1TlCOb",
    "slideshow": {
     "slide_type": "slide"
    }
   },
   "source": [
    "# Jax control flow\n",
    "\n",
    "1. If else\n",
    "2. Loops"
   ]
  },
  {
   "cell_type": "code",
   "execution_count": null,
   "metadata": {
    "slideshow": {
     "slide_type": "fragment"
    }
   },
   "outputs": [],
   "source": [
    "import jax\n",
    "import jax.numpy as jnp\n",
    "import math\n",
    "import jax\n",
    "import jax.numpy as jnp\n",
    "import numpy as np\n",
    "import matplotlib.pyplot as plt\n",
    "import math"
   ]
  },
  {
   "cell_type": "markdown",
   "metadata": {
    "slideshow": {
     "slide_type": "slide"
    }
   },
   "source": [
    "Does this work?"
   ]
  },
  {
   "cell_type": "code",
   "execution_count": null,
   "metadata": {
    "colab": {
     "base_uri": "https://localhost:8080/"
    },
    "id": "kTwV2ppJk_zC",
    "outputId": "2b1a16e9-4083-4217-8e1c-951dbc4e4c63",
    "slideshow": {
     "slide_type": "fragment"
    }
   },
   "outputs": [],
   "source": [
    "def test_if(x):\n",
    "    if x < 0:\n",
    "        return -x\n",
    "    else:\n",
    "        return x\n",
    "\n",
    "test_if(jnp.array(-1.))"
   ]
  },
  {
   "cell_type": "markdown",
   "metadata": {
    "id": "1Wki2iJ2mbWd",
    "slideshow": {
     "slide_type": "fragment"
    }
   },
   "source": [
    "Yes it works. "
   ]
  },
  {
   "cell_type": "markdown",
   "metadata": {
    "slideshow": {
     "slide_type": "slide"
    }
   },
   "source": [
    "How about the for loop?"
   ]
  },
  {
   "cell_type": "code",
   "execution_count": null,
   "metadata": {
    "colab": {
     "base_uri": "https://localhost:8080/"
    },
    "id": "jhtHGp-_maqR",
    "outputId": "a183d9f0-5860-4489-cfbd-473aac885984",
    "slideshow": {
     "slide_type": "fragment"
    }
   },
   "outputs": [],
   "source": [
    "def test_for(x):\n",
    "    for i in range(5):\n",
    "        x = jnp.eye(2) @ x\n",
    "    return x\n",
    "\n",
    "test_for(jnp.ones((2, )))"
   ]
  },
  {
   "cell_type": "markdown",
   "metadata": {
    "id": "XSF2bbrom1II",
    "slideshow": {
     "slide_type": "fragment"
    }
   },
   "source": [
    "Yep, it works tooo!\n",
    "\n",
    "It **seems** a fuss to worry about using normal Python control flows.\n",
    "\n",
    "But, if we want to use `jit` or some autodiff features, you have to be careful with control flows."
   ]
  },
  {
   "cell_type": "markdown",
   "metadata": {
    "id": "Wp1eEWrqnoSJ",
    "slideshow": {
     "slide_type": "slide"
    }
   },
   "source": [
    "# Example\n",
    "\n",
    "Will this work?"
   ]
  },
  {
   "cell_type": "code",
   "execution_count": null,
   "metadata": {
    "id": "hzK2GnIumVI_",
    "scrolled": true,
    "slideshow": {
     "slide_type": "slide"
    }
   },
   "outputs": [],
   "source": [
    "@jax.jit\n",
    "def test_if(x):\n",
    "    if x < 0:\n",
    "        return -x\n",
    "    else:\n",
    "        return x\n",
    "\n",
    "test_if(jnp.array(-1.))"
   ]
  },
  {
   "cell_type": "markdown",
   "metadata": {
    "id": "Fn_ZH92so2eg",
    "slideshow": {
     "slide_type": "fragment"
    }
   },
   "source": [
    "No. The error message explained it well already. \n",
    "\n",
    "Basically, it fails because we are building a computational graph that changes based on the **concrete** value of a variable. \n",
    "\n",
    "We can force this example to work by using `static_argnums` argument for `jit`. But please use it only if this is intentional, that is, `x` is really static."
   ]
  },
  {
   "cell_type": "markdown",
   "metadata": {
    "slideshow": {
     "slide_type": "slide"
    }
   },
   "source": [
    "Recall that `jax.jit` needs to trace all the (numerical) operations to compile to the XLA code.\n",
    "\n",
    "`jax.jit` cannot trace the Python control flows, such as `if else` and `for`. \n",
    "\n",
    "If the function to be jitted has a for loop, then the operations in the for loop are hardcoded to the XLA programme."
   ]
  },
  {
   "cell_type": "markdown",
   "metadata": {
    "slideshow": {
     "slide_type": "fragment"
    }
   },
   "source": [
    "Why? \n",
    "\n",
    "Imagine we ask you to implement a function\n",
    "\n",
    "```python\n",
    "def my_jit(f):\n",
    "    return ...\n",
    "```\n",
    "\n",
    "such that `my_jit` takes a function `f` as input and detect whether the function has a `for loop`. This is super difficult, and we might need to print the function `f` as string then semantically search for the `for`."
   ]
  },
  {
   "cell_type": "markdown",
   "metadata": {
    "slideshow": {
     "slide_type": "slide"
    }
   },
   "source": [
    "A more illustrative example:\n",
    "\n",
    "Suppose that JAX can compile a Python code to a C code. How would the compiled C code of\n",
    "\n",
    "```python\n",
    "for i in range(100):\n",
    "    x = f(x)\n",
    "```\n",
    "\n",
    "look like?"
   ]
  },
  {
   "cell_type": "markdown",
   "metadata": {
    "slideshow": {
     "slide_type": "fragment"
    }
   },
   "source": [
    "We expect to get a C code like this:\n",
    "\n",
    "```c\n",
    "for (int i = 0; i < 100; i++) {\n",
    "    x = f(x);\n",
    "}\n",
    "```"
   ]
  },
  {
   "cell_type": "markdown",
   "metadata": {
    "slideshow": {
     "slide_type": "fragment"
    }
   },
   "source": [
    "But actually... we got \n",
    "\n",
    "```c\n",
    "x = f(x);\n",
    "x = f(x);\n",
    "x = f(x);\n",
    "... // hardcore-repeat 100 times\n",
    "```"
   ]
  },
  {
   "cell_type": "markdown",
   "metadata": {
    "id": "S98jgnfsqr3X",
    "slideshow": {
     "slide_type": "slide"
    }
   },
   "source": [
    "Hence, if we desire `for/if` in the **runtime**. we need to write something that `jax` could understand/parse, that are, JAX primitives."
   ]
  },
  {
   "cell_type": "markdown",
   "metadata": {
    "id": "qMNR_apxrYOj",
    "slideshow": {
     "slide_type": "slide"
    }
   },
   "source": [
    "# If else\n",
    "\n",
    "Consider a Python `if else`\n",
    "\n",
    "```python\n",
    "if condition:\n",
    "    result = true_func(x)\n",
    "else:\n",
    "    result = false_func(x)\n",
    "```\n",
    "\n",
    "In JAX we write as\n",
    "\n",
    "```python\n",
    "result = jax.lax.cond(condition,  \n",
    "                      true_func, \n",
    "                      false_func, \n",
    "                      operand=x)\n",
    "```"
   ]
  },
  {
   "cell_type": "markdown",
   "metadata": {
    "id": "2_dPsVICtXQD",
    "slideshow": {
     "slide_type": "slide"
    }
   },
   "source": [
    "Let us implement `test_if` in jax as an example. "
   ]
  },
  {
   "cell_type": "code",
   "execution_count": null,
   "metadata": {
    "id": "Hn28vFoQqrSk",
    "slideshow": {
     "slide_type": "fragment"
    }
   },
   "outputs": [],
   "source": [
    "@jax.jit\n",
    "def test_if(x):\n",
    "    return jax.lax.cond(x < 0.,       # condition\n",
    "                        lambda _: -x, # what to execution if the condition is true\n",
    "                        lambda _: x,  # what to execution if the condition is false\n",
    "                        x)            # the operand here can be anything because we used x from outer scope\n",
    "\n",
    "test_if(jnp.array(-1.))"
   ]
  },
  {
   "cell_type": "code",
   "execution_count": null,
   "metadata": {
    "id": "gZs8mrjkthJa",
    "slideshow": {
     "slide_type": "fragment"
    }
   },
   "outputs": [],
   "source": [
    "@jax.jit\n",
    "def test_if(x):\n",
    "    return jax.lax.cond(x < 0., \n",
    "                        lambda u: -u, \n",
    "                        lambda u: u,\n",
    "                        x)\n",
    "\n",
    "test_if(jnp.array(-1.))"
   ]
  },
  {
   "cell_type": "markdown",
   "metadata": {
    "id": "3TmIbmGwtpdR",
    "slideshow": {
     "slide_type": "slide"
    }
   },
   "source": [
    "# Exercise\n",
    "\n",
    "Write ELU activation function in jax and jit it.\n",
    "\n",
    "$$\n",
    "\\mathrm{elu}(x) = \\begin{cases}e^x, & x < 0,\\\\\n",
    "                               1, & x\\geq 0\\end{cases}\n",
    "$$\n",
    "\n",
    "A numpy implementation would be\n",
    "\n",
    "```python\n",
    "@jax.jit\n",
    "def elu(x):\n",
    "    return jax.lax.cond(?,\n",
    "                        ?, \n",
    "                        ?, \n",
    "                        ?)\n",
    "\n",
    "# test\n",
    "elu(1.)\n",
    "```"
   ]
  },
  {
   "cell_type": "markdown",
   "metadata": {
    "id": "4cKoNEefwf2r",
    "slideshow": {
     "slide_type": "slide"
    }
   },
   "source": [
    "## Solution"
   ]
  },
  {
   "cell_type": "code",
   "execution_count": null,
   "metadata": {
    "id": "RHA26n_LtxSf",
    "slideshow": {
     "slide_type": "fragment"
    }
   },
   "outputs": [],
   "source": [
    "@jax.jit\n",
    "def elu(x):\n",
    "    return jax.lax.cond(x < 0.,\n",
    "                        lambda _: jnp.exp(x), \n",
    "                        lambda _: 1., \n",
    "                        x)\n",
    "elu(1.)"
   ]
  },
  {
   "cell_type": "markdown",
   "metadata": {
    "id": "JfjsA1A_xPn0",
    "slideshow": {
     "slide_type": "slide"
    }
   },
   "source": [
    "# ~\n",
    "\n",
    "1. What if we have multiple if conditions, i.e., `if elif elif ... else`? Use `jax.switch`.\n",
    "\n",
    "2. What if we have vector input? Use `jnp.where` or `jax.vmap`."
   ]
  },
  {
   "cell_type": "markdown",
   "metadata": {
    "id": "_UWxlJiFyEcI",
    "slideshow": {
     "slide_type": "slide"
    }
   },
   "source": [
    "# Loops\n",
    "\n",
    "$$\n",
    "\\begin{split}\n",
    "\\begin{array} {r|rr} \n",
    "\\hline \\\n",
    "\\textrm{construct} \n",
    "& \\textrm{jit} \n",
    "& \\textrm{grad} \\\\\n",
    "\\hline \\\n",
    "\\textrm{if} & ❌ & ✔ \\\\\n",
    "\\textrm{for} & ✔* & ✔\\\\\n",
    "\\textrm{while} & ✔* & ✔\\\\\n",
    "\\textrm{lax.cond} & ✔ & ✔\\\\\n",
    "\\textrm{lax.while_loop} & ✔ & \\textrm{fwd}\\\\\n",
    "\\textrm{lax.fori_loop} & ✔ & \\textrm{fwd}\\\\\n",
    "\\textrm{lax.scan} & ✔ & ✔\\\\\n",
    "\\hline\n",
    "\\end{array}\n",
    "\\end{split}\n",
    "$$\n",
    "\n",
    "* = argument-value-independent loop condition - unrolls the loop. See, https://jax.readthedocs.io/en/latest/notebooks/Common_Gotchas_in_JAX.html.\n",
    "\n",
    "Similar to the `jax.lax.cond` we have seen above, for loops, we have `jax.lax.while_loop, fori_loop, scan`."
   ]
  },
  {
   "cell_type": "markdown",
   "metadata": {
    "id": "7_OHK2bGyBdv",
    "slideshow": {
     "slide_type": "slide"
    }
   },
   "source": [
    "Consider a naive numpy implementation of summation:\n",
    "\n",
    "```python\n",
    "def my_sum(x):\n",
    "    summation = 0.\n",
    "    for i in range(x.shape[0]):\n",
    "        summation = summation + x[i]\n",
    "    return summation\n",
    "```"
   ]
  },
  {
   "cell_type": "markdown",
   "metadata": {
    "id": "D5m9sDilyBfo",
    "slideshow": {
     "slide_type": "fragment"
    }
   },
   "source": [
    "The jax implementation of it is"
   ]
  },
  {
   "cell_type": "code",
   "execution_count": null,
   "metadata": {
    "colab": {
     "base_uri": "https://localhost:8080/"
    },
    "id": "B-pf7HH48q5g",
    "outputId": "fcb5ca36-161f-4bad-96d2-35acef98d9c2",
    "slideshow": {
     "slide_type": "fragment"
    }
   },
   "outputs": [],
   "source": [
    "def my_sum(x):\n",
    "\n",
    "    def body_func(i, val):\n",
    "        return x[i] + val\n",
    "\n",
    "    return jax.lax.fori_loop(lower=0,            # The starting index\n",
    "                             upper=x.shape[0],   # The number of loops\n",
    "                             body_fun=body_func, # The loop body (index, previous_val) -> val\n",
    "                             init_val=0.)        # Initial value of the loop val\n",
    "\n",
    "my_sum(jnp.ones((10, )))"
   ]
  },
  {
   "cell_type": "markdown",
   "metadata": {
    "slideshow": {
     "slide_type": "slide"
    }
   },
   "source": [
    "The compiled function looks like this:"
   ]
  },
  {
   "cell_type": "code",
   "execution_count": null,
   "metadata": {
    "id": "65AT1rhrEHOm",
    "slideshow": {
     "slide_type": "fragment"
    }
   },
   "outputs": [],
   "source": [
    "jax.make_jaxpr(my_sum)(jnp.ones((10, )))"
   ]
  },
  {
   "cell_type": "markdown",
   "metadata": {
    "id": "Q5dKMSpwEnGv",
    "slideshow": {
     "slide_type": "slide"
    }
   },
   "source": [
    "Now that if we don't use the jax language `jax.fori_loop` but simply use Python for loop, what does jax see?"
   ]
  },
  {
   "cell_type": "code",
   "execution_count": null,
   "metadata": {
    "id": "fV7PJsEKEuMa",
    "slideshow": {
     "slide_type": "fragment"
    }
   },
   "outputs": [],
   "source": [
    "# this loop is jittable indeed, but ...\n",
    "def my_sum_naive(x):\n",
    "    summation = 0.\n",
    "    for i in range(x.shape[0]):\n",
    "        summation = summation + x[i]\n",
    "    return summation\n",
    "\n",
    "jax.make_jaxpr(my_sum_naive)(jnp.ones((100, )))"
   ]
  },
  {
   "cell_type": "markdown",
   "metadata": {
    "id": "eopX3e4hDmnT",
    "slideshow": {
     "slide_type": "slide"
    }
   },
   "source": [
    "See? Again recall that JAX cannot trace the Python control flows."
   ]
  },
  {
   "cell_type": "markdown",
   "metadata": {
    "id": "DhsVwFCaA86X",
    "slideshow": {
     "slide_type": "slide"
    }
   },
   "source": [
    "# Exercise\n",
    "\n",
    "Consider a recursion\n",
    "\n",
    "$$\n",
    "X_k = 0.1 \\, X_{k-1} + U_{k-1}.\n",
    "$$\n",
    "\n",
    "Suppose that the initial $X_0$ and inputs $\\lbrace U_k \\rbrace_{k=0}^{T-1}$ are known. Could you compute $X_{T}$?\n",
    "\n",
    "This is a simple numpy way to do it:"
   ]
  },
  {
   "cell_type": "code",
   "execution_count": null,
   "metadata": {
    "id": "Epq2zK5poC2u",
    "slideshow": {
     "slide_type": "fragment"
    }
   },
   "outputs": [],
   "source": [
    "def recursion(x0, us):\n",
    "    T = us.shape[0]\n",
    "    x = x0\n",
    "    for k in range(T):\n",
    "        x = 0.1 * x + us[k]\n",
    "    return x\n",
    "\n",
    "recursion(np.array(0.1), 0.2 * np.ones((10, )))"
   ]
  },
  {
   "cell_type": "markdown",
   "metadata": {
    "id": "VrXJgs28DP1K",
    "slideshow": {
     "slide_type": "slide"
    }
   },
   "source": [
    "$$\n",
    "X_k = 0.1 \\, X_{k-1} + U_{k-1}.\n",
    "$$\n",
    "\n",
    "```python\n",
    "def recursion(x0, us):\n",
    "    def fori_body(k, x):\n",
    "        return ??\n",
    "\n",
    "    return jax.lax.fori_loop(lower=??,\n",
    "                             upper=??,\n",
    "                             body_fun=??,\n",
    "                             init_val=??)\n",
    "\n",
    "recursion(jnp.array(0.1), 0.2 * jnp.ones((10, )))\n",
    "```"
   ]
  },
  {
   "cell_type": "markdown",
   "metadata": {
    "id": "NO1qaagtDrvW",
    "slideshow": {
     "slide_type": "slide"
    }
   },
   "source": [
    "## Solution"
   ]
  },
  {
   "cell_type": "code",
   "execution_count": null,
   "metadata": {
    "id": "R2WMP8NQDtnr",
    "slideshow": {
     "slide_type": "fragment"
    }
   },
   "outputs": [],
   "source": [
    "def recursion(x0, us):\n",
    "    def fori_body(k, x):\n",
    "        return 0.1 * x + us[k]\n",
    "\n",
    "    return jax.lax.fori_loop(lower=0,\n",
    "                             upper=us.shape[0],\n",
    "                             body_fun=fori_body,\n",
    "                             init_val=x0)\n",
    "\n",
    "recursion(jnp.array(0.1), 0.2 * jnp.ones((10, )))"
   ]
  },
  {
   "cell_type": "markdown",
   "metadata": {
    "id": "iZJ5Of3hRvbN",
    "slideshow": {
     "slide_type": "slide"
    }
   },
   "source": [
    "# ~\n",
    "\n",
    "Wait a sec, but the function only returns the end value at $T$. How do I keep all the history results?\n",
    "\n",
    "This is very simple in numpy. Just introduce a result accumulator, say, `xs`."
   ]
  },
  {
   "cell_type": "code",
   "execution_count": null,
   "metadata": {
    "id": "WkzB1gtCSDAZ",
    "slideshow": {
     "slide_type": "fragment"
    }
   },
   "outputs": [],
   "source": [
    "def recursion(x0, us):\n",
    "    T = us.shape[0]\n",
    "    xs = np.zeros((T, )) # The accumulator\n",
    "\n",
    "    x = x0\n",
    "    for k in range(T):\n",
    "        x = 0.1 * x + us[k]\n",
    "        xs[k] = x\n",
    "    return xs\n",
    "\n",
    "recursion(np.array(0.1), 0.2 * np.ones((10, )))"
   ]
  },
  {
   "cell_type": "markdown",
   "metadata": {
    "id": "IdJ7v2HTSlCy",
    "slideshow": {
     "slide_type": "slide"
    }
   },
   "source": [
    "Can I do the same in jax?\n",
    "\n",
    "```python\n",
    "@jax.jit\n",
    "def recursion(x0, us):\n",
    "    xs = jnp.zeros((T, ))\n",
    "\n",
    "    def fori_body(k, x):\n",
    "        x = 0.1 * x + us[k]\n",
    "        xs[k] = x\n",
    "        return x\n",
    "\n",
    "    return jax.lax.fori_loop(lower=0,\n",
    "                             upper=us.shape[0],\n",
    "                             body_fun=fori_body,\n",
    "                             init_val=x0)\n",
    "```\n",
    "\n",
    "No. We will get error in the line `xs[k] = x` because jax DeviceArray are immutable (i.e., no assignment).\n",
    "\n",
    "We can, to some extent, force `xs[k] = x` to work by using \"jax array update\" at the cost of making your programme nasty, slow, and unreadable. "
   ]
  },
  {
   "cell_type": "markdown",
   "metadata": {
    "id": "Q9bq2pYgTvVX",
    "slideshow": {
     "slide_type": "slide"
    }
   },
   "source": [
    "The authentic way to do it is by using the **scan** operation, because \n",
    "\n",
    "$$\n",
    "X_k = 0.1 \\, X_{k-1} + U_{k-1}\n",
    "$$\n",
    "\n",
    "is essentially a scan operation. Think about what the essential parts of such scan loop are, then we can abstract them!"
   ]
  },
  {
   "cell_type": "code",
   "execution_count": null,
   "metadata": {
    "id": "24YBtqQGSK2k",
    "slideshow": {
     "slide_type": "fragment"
    }
   },
   "outputs": [],
   "source": [
    "def recursion(x0, us):\n",
    "    def scan_body(carry, elem):\n",
    "        # Unpack carry and elem\n",
    "        x = carry\n",
    "        u = elem\n",
    "\n",
    "        x = 0.1 * x + u\n",
    "        return x, x                 # Scan body returns two values. First returns as the next carry, the second goes to the result container.\n",
    "\n",
    "    return jax.lax.scan(scan_body,  # The scan body function\n",
    "                        x0,         # Initial value/carry\n",
    "                        us)         # Inputs\n",
    "\n",
    "(last_x, xs) = recursion(jnp.array(0.1), 0.2 * jnp.ones((10, )))\n",
    "xs"
   ]
  },
  {
   "cell_type": "markdown",
   "metadata": {
    "id": "m4qMNZ-1Xco5",
    "slideshow": {
     "slide_type": "slide"
    }
   },
   "source": [
    "# Exercise\n",
    "\n",
    "Consider an SDE\n",
    "\n",
    "$$\n",
    "\\mathrm{d} X(t) = \\sin(10 \\, \\pi \\, X(t)) \\, \\mathrm{d} t + \\mathrm{d}W(t),\n",
    "$$\n",
    "\n",
    "where $X(0) = 0.1$. Use Euler--Maruyama to simulate a trajectory of $X$ at times $0.01, 0.02, \\ldots, 1$.\n",
    "\n",
    "Formula:\n",
    "\n",
    "$$\n",
    "X(t_k) \\approx X(t_{k-1}) + \\sin(10 \\, \\pi \\, X(t_{k-1})) \\, (t_k - t_{k-1}) + \\Delta W_k, \\quad \\Delta W_k \\sim \\mathrm{N}(0, t_k - t_{k-1}).\n",
    "$$\n",
    "\n",
    "```python\n",
    "dt = 0.01\n",
    "T = 100\n",
    "ts = jnp.linspace(dt, dt * T, T)\n",
    "\n",
    "key = jax.random.PRNGKey(666)\n",
    "ws = ? # Generate a Wiener process at ts\n",
    "\n",
    "\n",
    "def scan_body(carry, elem):\n",
    "    ? = carry\n",
    "    dw = elem\n",
    "\n",
    "    # Euler equation here?\n",
    "    return ?, ?\n",
    "\n",
    "_, xs =  jax.lax.scan(?, \n",
    "                      ?, \n",
    "                      ws)\n",
    "\n",
    "plt.plot(ts, xs)\n",
    "```"
   ]
  },
  {
   "cell_type": "markdown",
   "metadata": {
    "id": "RRiW5u2Fpfee",
    "slideshow": {
     "slide_type": "slide"
    }
   },
   "source": [
    "## Solution"
   ]
  },
  {
   "cell_type": "code",
   "execution_count": null,
   "metadata": {
    "id": "wXsTfdccVpJP",
    "slideshow": {
     "slide_type": "fragment"
    }
   },
   "outputs": [],
   "source": [
    "dt = 0.01\n",
    "T = 100\n",
    "ts = jnp.linspace(dt, dt * T, T)\n",
    "\n",
    "key = jax.random.PRNGKey(666)\n",
    "ws = jnp.cumsum(math.sqrt(dt) * jax.random.normal(key, (T, ))) # Wiener process at the times\n",
    "\n",
    "def scan_body(carry, elem):\n",
    "        x = carry\n",
    "        dw = elem\n",
    "\n",
    "        x = x + jnp.sin(10 * math.pi * x) * dt + dw\n",
    "        return x, x\n",
    "\n",
    "_, xs =  jax.lax.scan(scan_body, \n",
    "                      jnp.array(0.1), \n",
    "                      ws)\n",
    "\n",
    "plt.plot(ts, xs)"
   ]
  }
 ],
 "metadata": {
  "celltoolbar": "Slideshow",
  "colab": {
   "collapsed_sections": [],
   "name": "jax-clinic-control-flow.ipynb",
   "provenance": []
  },
  "kernelspec": {
   "display_name": "Python 3 (ipykernel)",
   "language": "python",
   "name": "python3"
  },
  "language_info": {
   "codemirror_mode": {
    "name": "ipython",
    "version": 3
   },
   "file_extension": ".py",
   "mimetype": "text/x-python",
   "name": "python",
   "nbconvert_exporter": "python",
   "pygments_lexer": "ipython3",
   "version": "3.10.4"
  }
 },
 "nbformat": 4,
 "nbformat_minor": 1
}
